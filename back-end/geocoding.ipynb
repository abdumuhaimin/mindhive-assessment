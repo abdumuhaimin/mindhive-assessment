{
 "cells": [
  {
   "cell_type": "code",
   "execution_count": 1,
   "metadata": {},
   "outputs": [],
   "source": [
    "import sqlite3\n",
    "import urllib.parse"
   ]
  },
  {
   "cell_type": "code",
   "execution_count": 83,
   "metadata": {},
   "outputs": [],
   "source": [
    "conn = sqlite3.connect(\"outlets.db\")\n",
    "cursor = conn.cursor()"
   ]
  },
  {
   "cell_type": "code",
   "execution_count": 84,
   "metadata": {},
   "outputs": [
    {
     "data": {
      "text/plain": [
       "<sqlite3.Cursor at 0x21c85472040>"
      ]
     },
     "execution_count": 84,
     "metadata": {},
     "output_type": "execute_result"
    }
   ],
   "source": [
    "cursor.execute(\"SELECT address FROM outlets\")"
   ]
  },
  {
   "cell_type": "code",
   "execution_count": 85,
   "metadata": {},
   "outputs": [],
   "source": [
    "addresses = cursor.fetchall()\n",
    "\n",
    "clean_addresses = []\n",
    "\n",
    "for address in addresses:\n",
    "    clean_address = str(address).strip(\"(),'\")\n",
    "    clean_addresses.append(urllib.parse.quote(clean_address))"
   ]
  },
  {
   "cell_type": "code",
   "execution_count": 74,
   "metadata": {},
   "outputs": [
    {
     "data": {
      "text/plain": [
       "<sqlite3.Cursor at 0x21c854726c0>"
      ]
     },
     "execution_count": 74,
     "metadata": {},
     "output_type": "execute_result"
    }
   ],
   "source": [
    "cursor.execute(\"DELETE FROM outlets WHERE address IS NULL OR name IS NULL\")"
   ]
  },
  {
   "cell_type": "code",
   "execution_count": 86,
   "metadata": {},
   "outputs": [
    {
     "name": "stdout",
     "output_type": "stream",
     "text": [
      "['No.41%2C%20Ground%20Floor%2C%20Jalan%20Komersial%2C%20Taman%20Kota%20Fesyen%20MITC%2C%2075450%2C%20Ayer%20Keroh%2C%20Melaka', 'JC%2023%2C%20Ground%20Floor%2C%20Jalan%20BMU%201%2C%20Bandar%20Baru%20Merlimau%20Utara%2C%2077300%2C%20Merlimau%2C%20Melaka', 'SI%2015%2C%20Ground%20Floor%2C%20Jalan%20Sungai%20Baru%20Ilir%20Jaya%20Utama%2C%20Taman%20Sungai%20Baru%20Ilir%20Jaya%2C%2078300%20Masjid%20Tanah%2C%20Melaka.', 'No%2039%20%28Ground%20Floor%29%2C%20Jalan%20Merdeka%201%2C%20Taman%20Merdeka%2C%20Hang%20Tuah%20Jaya%2C%2075350%20Batu%20Berendam%2C%20Melaka.', 'No%2017%20%28Ground%20Floor%29%2C%20Jalan%20Inang%201%2C%20Taman%20Paya%20Rumput%20Utama%2C%2076450%20Melaka.%20', 'G13%2C%20Ground%20Floor%2C%20ElementX%20%40%20Hatten%20City%2C%20Jalan%20Melaka%20Raya%2C%2023%2C%20Taman%20Melaka%20Raya%2C%2075000%20Melaka%20', 'No%2024%20%28Ground%20Floor%29%2C%20Jalan%20Kerambit%204%2C%20Bandar%20Baru%20Sungai%20Udang%2C%2076300%20Sungai%20Udang%2C%20Melaka.%20', 'B-001%28B%29%20Dataran%20Pahlawan%20Melaka%20Megamall%2C%20Jln%20Merdeka%2C%20Bandar%20Hilir%2C%2075000%2C%20Melaka', 'Freeport%20A%E2%80%99Famosa%20Outlet%2C%20Lot%2028%2C%20Jalan%20Kemus%2C%20Simpang%20Ampat%2C%2078000%20Alor%20Gajah%2C%20Melaka', 'Ground%20Floor%2C%20JC%20548%2C%20Jln%20Bestari%205%2C%20Bandar%20Jasin%20Bestari%2C%2077200%20Bemban%2C%20Melaka', 'SU%201443%20%28Ground%20Floor%29%2C%20Jalan%20Masjid%20Tanah%20Ria%20Utama%2C%20Taman%20Masjid%20Tanah%20Ria%2C%2078300%20Masjid%20Tanah%2C%20Melaka', 'Pusat%20Niaga%2C%20No%204%20%28Ground%20Floor%29%20Jalan%20PNBBU%203%2C%20Bukit%20Baru%2C%20Bukit%20Baru%20Utama%2C%2075150%20Bukit%20Baru%2C%20Melaka', 'No.25%2C%20GF%2C%20Jalan%20Komersial%20TAKH%202%2C%20Taman%20Ayer%20Keroh%20Heights%2C%20Ayer%20Keroh%2C%2075450%20Hang%20Tuah%20Jaya%20Melaka', '15%2C%20Jalan%20PPM%208%2C%20Plaza%20Pandan%20Malim%2C%2075250%20Melaka', '59%2C%20Jalan%20KLJ%206%2C%20Taman%20Kota%20Laksamana%20Jaya%2C%2075200%20Melaka']\n"
     ]
    }
   ],
   "source": [
    "print(clean_addresses)"
   ]
  },
  {
   "cell_type": "code",
   "execution_count": 76,
   "metadata": {},
   "outputs": [
    {
     "data": {
      "text/plain": [
       "True"
      ]
     },
     "execution_count": 76,
     "metadata": {},
     "output_type": "execute_result"
    }
   ],
   "source": [
    "from dotenv import load_dotenv\n",
    "\n",
    "load_dotenv()"
   ]
  },
  {
   "cell_type": "code",
   "execution_count": 77,
   "metadata": {},
   "outputs": [
    {
     "name": "stdout",
     "output_type": "stream",
     "text": [
      "8dda525c4e9040b5bac4a997baf2aad5\n"
     ]
    }
   ],
   "source": [
    "import os\n",
    "\n",
    "print(os.getenv(\"API_KEY\"))"
   ]
  },
  {
   "cell_type": "code",
   "execution_count": 78,
   "metadata": {},
   "outputs": [],
   "source": [
    "import requests\n",
    "\n",
    "geocode_api_url = \"https://api.geoapify.com/v1/geocode/search?text={}&apiKey={}\"\n",
    "\n",
    "address_lon_lat = []\n",
    "\n",
    "for address in clean_addresses:\n",
    "    geocode_url = geocode_api_url.format(address, os.getenv(\"API_KEY\"))\n",
    "    geocode_request = requests.get(geocode_url)\n",
    "    geocode_request_json = geocode_request.json()\n",
    "    address_longitude = geocode_request_json[\"features\"][0][\"properties\"][\"lon\"]\n",
    "    address_latitude = geocode_request_json[\"features\"][0][\"properties\"][\"lat\"]\n",
    "    \n",
    "    address_lon_lat.append([address_longitude, address_latitude])"
   ]
  },
  {
   "cell_type": "code",
   "execution_count": 79,
   "metadata": {},
   "outputs": [
    {
     "name": "stdout",
     "output_type": "stream",
     "text": [
      "[[102.2915442, 2.255986], [102.425724, 2.147558], [102.1089793, 2.3522253], [102.2542092, 2.2507491], [102.2821695, 2.2723766], [-88.75381357309995, 44.38431855], [102.1338866, 2.2841096], [102.2515728, 2.1943035], [102.1883, 2.4364], [102.398694, 2.275298], [102.1089793, 2.3522253], [102.2710708, 2.2157944], [111.5402, -7.6279], [102.222656, 2.228419], [102.2375854, 2.1966038]]\n"
     ]
    }
   ],
   "source": [
    "print(address_lon_lat)"
   ]
  },
  {
   "cell_type": "code",
   "execution_count": 47,
   "metadata": {},
   "outputs": [
    {
     "data": {
      "text/plain": [
       "<sqlite3.Cursor at 0x21c838702c0>"
      ]
     },
     "execution_count": 47,
     "metadata": {},
     "output_type": "execute_result"
    }
   ],
   "source": [
    "cursor.execute(\"\"\"\n",
    "    ALTER TABLE outlets ADD lon REAL\n",
    "\"\"\")"
   ]
  },
  {
   "cell_type": "code",
   "execution_count": 48,
   "metadata": {},
   "outputs": [
    {
     "data": {
      "text/plain": [
       "<sqlite3.Cursor at 0x21c838702c0>"
      ]
     },
     "execution_count": 48,
     "metadata": {},
     "output_type": "execute_result"
    }
   ],
   "source": [
    "cursor.execute(\"\"\"\n",
    "    ALTER TABLE outlets ADD lat REAL\n",
    "\"\"\")"
   ]
  },
  {
   "cell_type": "code",
   "execution_count": 87,
   "metadata": {},
   "outputs": [],
   "source": [
    "for i, (lon,lat) in enumerate(address_lon_lat):\n",
    "    cursor.execute(\"UPDATE outlets SET lon = ?, lat = ? WHERE id = ?\", (lon, lat, i+1))"
   ]
  },
  {
   "cell_type": "code",
   "execution_count": 88,
   "metadata": {},
   "outputs": [],
   "source": [
    "conn.commit()\n",
    "conn.close()"
   ]
  }
 ],
 "metadata": {
  "kernelspec": {
   "display_name": "Python 3",
   "language": "python",
   "name": "python3"
  },
  "language_info": {
   "codemirror_mode": {
    "name": "ipython",
    "version": 3
   },
   "file_extension": ".py",
   "mimetype": "text/x-python",
   "name": "python",
   "nbconvert_exporter": "python",
   "pygments_lexer": "ipython3",
   "version": "3.12.0"
  }
 },
 "nbformat": 4,
 "nbformat_minor": 2
}
