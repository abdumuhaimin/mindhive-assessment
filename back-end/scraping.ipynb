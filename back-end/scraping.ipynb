{
 "cells": [
  {
   "cell_type": "code",
   "execution_count": 2,
   "metadata": {},
   "outputs": [],
   "source": [
    "from bs4 import BeautifulSoup\n",
    "import requests"
   ]
  },
  {
   "cell_type": "code",
   "execution_count": 30,
   "metadata": {},
   "outputs": [],
   "source": [
    "url = \"https://zuscoffee.com/category/store/melaka/page/{}\"\n",
    "soups = {}\n",
    "for pages in range(1, 3):\n",
    "    formatted_url = url.format(pages)\n",
    "    page = requests.get(formatted_url)\n",
    "    soup = BeautifulSoup(page.content, \"html.parser\")\n",
    "    soups[pages] = soup"
   ]
  },
  {
   "cell_type": "code",
   "execution_count": 104,
   "metadata": {},
   "outputs": [
    {
     "name": "stdout",
     "output_type": "stream",
     "text": [
      "ZUS Coffee – MITC Melaka: No.41, Ground Floor, Jalan Komersial, Taman Kota Fesyen MITC, 75450, Ayer Keroh, Melaka\n",
      "ZUS Coffee – Merlimau: JC 23, Ground Floor, Jalan BMU 1, Bandar Baru Merlimau Utara, 77300, Merlimau, Melaka\n",
      "ZUS Coffee – Kuala Sungai Baru: SI 15, Ground Floor, Jalan Sungai Baru Ilir Jaya Utama, Taman Sungai Baru Ilir Jaya, 78300 Masjid Tanah, Melaka.\n",
      "ZUS Coffee – Melaka Taman Merdeka: No 39 (Ground Floor), Jalan Merdeka 1, Taman Merdeka, Hang Tuah Jaya, 75350 Batu Berendam, Melaka.\n",
      "ZUS Coffee – Bandar Utama Cheng: No 17 (Ground Floor), Jalan Inang 1, Taman Paya Rumput Utama, 76450 Melaka. \n",
      "ZUS Coffee – ElementX @ Hatten City: G13, Ground Floor, ElementX @ Hatten City, Jalan Melaka Raya, 23, Taman Melaka Raya, 75000 Melaka \n",
      "ZUS Coffee – Sungai Udang: No 24 (Ground Floor), Jalan Kerambit 4, Bandar Baru Sungai Udang, 76300 Sungai Udang, Melaka. \n",
      "DATARAN PAHLAWAN, MELAKA: B-001(B) Dataran Pahlawan Melaka Megamall, Jln Merdeka, Bandar Hilir, 75000, Melaka\n",
      "FREEPORT A’FAMOSA, MELAKA: Freeport A’Famosa Outlet, Lot 28, Jalan Kemus, Simpang Ampat, 78000 Alor Gajah, Melaka\n",
      "JASIN BESTARI, MELAKA: Ground Floor, JC 548, Jln Bestari 5, Bandar Jasin Bestari, 77200 Bemban, Melaka\n",
      "MASJID TANAH, MELAKA: SU 1443 (Ground Floor), Jalan Masjid Tanah Ria Utama, Taman Masjid Tanah Ria, 78300 Masjid Tanah, Melaka\n",
      "BUKIT BARU: Pusat Niaga, No 4 (Ground Floor) Jalan PNBBU 3, Bukit Baru, Bukit Baru Utama, 75150 Bukit Baru, Melaka\n",
      "AYER KEROH: No.25, GF, Jalan Komersial TAKH 2, Taman Ayer Keroh Heights, Ayer Keroh, 75450 Hang Tuah Jaya Melaka\n",
      "PLAZA PANDAN MALIM: 15, Jalan PPM 8, Plaza Pandan Malim, 75250 Melaka\n",
      "MELAKA KOTA LAKSAMANA: 59, Jalan KLJ 6, Taman Kota Laksamana Jaya, 75200 Melaka\n"
     ]
    }
   ],
   "source": [
    "outlet_data = {}\n",
    "\n",
    "for page, soup in soups.items():\n",
    "    outlet_names_soup = soup.find_all('p', class_=\"elementor-heading-title elementor-size-default\")\n",
    "    outlet_address_soup = soup.find_all('div', class_=\"elementor-element elementor-element-a5ba7a6 elementor-widget elementor-widget-theme-post-content\")\n",
    "\n",
    "    for name, address in zip(outlet_names_soup, outlet_address_soup):\n",
    "        outlet_name = name.text\n",
    "        address_elements = address.find_all('p')\n",
    "        outlet_address = ' '.join([elem.text for elem in address_elements])\n",
    "        outlet_data[outlet_name] = outlet_address\n",
    "\n",
    "for outlet_name, outlet_address in outlet_data.items():\n",
    "    print(f'{outlet_name}: {outlet_address}')"
   ]
  },
  {
   "cell_type": "code",
   "execution_count": 105,
   "metadata": {},
   "outputs": [],
   "source": [
    "import sqlite3"
   ]
  },
  {
   "cell_type": "code",
   "execution_count": 106,
   "metadata": {},
   "outputs": [],
   "source": [
    "conn = sqlite3.connect(\"outlets.db\")\n",
    "cursor = conn.cursor()"
   ]
  },
  {
   "cell_type": "code",
   "execution_count": 107,
   "metadata": {},
   "outputs": [
    {
     "data": {
      "text/plain": [
       "<sqlite3.Cursor at 0x2350b2aef40>"
      ]
     },
     "execution_count": 107,
     "metadata": {},
     "output_type": "execute_result"
    }
   ],
   "source": [
    "cursor.execute('''\n",
    "                CREATE TABLE IF NOT EXISTS outlets (\n",
    "               id INTEGER PRIMARY KEY AUTOINCREMENT,\n",
    "               name TEXT,\n",
    "               address TEXT,\n",
    "               geo_co TEXT\n",
    "                )\n",
    "''')"
   ]
  },
  {
   "cell_type": "code",
   "execution_count": 108,
   "metadata": {},
   "outputs": [
    {
     "data": {
      "text/plain": [
       "<sqlite3.Cursor at 0x2350b2aef40>"
      ]
     },
     "execution_count": 108,
     "metadata": {},
     "output_type": "execute_result"
    }
   ],
   "source": [
    "cursor.execute(\"ALTER TABLE outlets DROP COLUMN geo_co\")"
   ]
  },
  {
   "cell_type": "code",
   "execution_count": 110,
   "metadata": {},
   "outputs": [],
   "source": [
    "for outlet_name, outlet_address in outlet_data.items():\n",
    "    cursor.execute(\"INSERT INTO outlets (name, address) VALUES (?, ?)\", (outlet_name, outlet_address))"
   ]
  },
  {
   "cell_type": "code",
   "execution_count": 111,
   "metadata": {},
   "outputs": [],
   "source": [
    "conn.commit()\n",
    "conn.close()"
   ]
  }
 ],
 "metadata": {
  "kernelspec": {
   "display_name": "Python 3",
   "language": "python",
   "name": "python3"
  },
  "language_info": {
   "codemirror_mode": {
    "name": "ipython",
    "version": 3
   },
   "file_extension": ".py",
   "mimetype": "text/x-python",
   "name": "python",
   "nbconvert_exporter": "python",
   "pygments_lexer": "ipython3",
   "version": "3.12.0"
  }
 },
 "nbformat": 4,
 "nbformat_minor": 2
}
